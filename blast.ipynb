{
 "cells": [
  {
   "cell_type": "code",
   "execution_count": 20,
   "id": "5b6ff1c9-d7ec-4315-bd38-26c3a1666f68",
   "metadata": {
    "execution": {
     "iopub.execute_input": "2024-11-22T10:05:43.623541Z",
     "iopub.status.busy": "2024-11-22T10:05:43.622989Z",
     "iopub.status.idle": "2024-11-22T10:05:45.442927Z",
     "shell.execute_reply": "2024-11-22T10:05:45.441722Z",
     "shell.execute_reply.started": "2024-11-22T10:05:43.623496Z"
    }
   },
   "outputs": [],
   "source": [
    "from Bio import SeqIO\n",
    "import pandas as pd"
   ]
  },
  {
   "cell_type": "code",
   "execution_count": 2,
   "id": "c3f4eafd-fc7c-49a5-9ed5-3c5f70cffc7e",
   "metadata": {
    "execution": {
     "iopub.execute_input": "2024-11-22T09:36:04.058887Z",
     "iopub.status.busy": "2024-11-22T09:36:04.057776Z",
     "iopub.status.idle": "2024-11-22T09:36:04.320324Z",
     "shell.execute_reply": "2024-11-22T09:36:04.319154Z",
     "shell.execute_reply.started": "2024-11-22T09:36:04.058835Z"
    }
   },
   "outputs": [],
   "source": [
    "for record in SeqIO.parse(\"/home/lihaicheng/data1/References/human/mit/chrM.fa\", \"fasta\"):\n",
    "    pass"
   ]
  },
  {
   "cell_type": "code",
   "execution_count": 46,
   "id": "9cca92ce-5108-47c3-8350-a27cd6961abc",
   "metadata": {
    "execution": {
     "iopub.execute_input": "2024-11-26T06:13:01.574941Z",
     "iopub.status.busy": "2024-11-26T06:13:01.574370Z",
     "iopub.status.idle": "2024-11-26T06:13:01.582065Z",
     "shell.execute_reply": "2024-11-26T06:13:01.581093Z",
     "shell.execute_reply.started": "2024-11-26T06:13:01.574899Z"
    }
   },
   "outputs": [],
   "source": [
    "ls = []\n",
    "idx = 0\n",
    "for i in range(40, len(record.seq)+ 35, 40):\n",
    "    ls.append(str(record.seq[idx:i+20]))\n",
    "    idx = i"
   ]
  },
  {
   "cell_type": "code",
   "execution_count": 48,
   "id": "202c303c-a436-404f-b86d-094af6810ead",
   "metadata": {
    "execution": {
     "iopub.execute_input": "2024-11-26T06:13:12.888808Z",
     "iopub.status.busy": "2024-11-26T06:13:12.888240Z",
     "iopub.status.idle": "2024-11-26T06:13:12.897434Z",
     "shell.execute_reply": "2024-11-26T06:13:12.896479Z",
     "shell.execute_reply.started": "2024-11-26T06:13:12.888767Z"
    }
   },
   "outputs": [],
   "source": [
    "with open(\"split.fa\", \"w\") as f:\n",
    "    for i,j in enumerate(ls):\n",
    "        f.write(f\">{i}\\n\")\n",
    "        f.write(f\"{j}\\n\")"
   ]
  },
  {
   "cell_type": "markdown",
   "id": "c578f7fe-eb14-4ce3-9c07-7cb94945134a",
   "metadata": {},
   "source": [
    "```shell\n",
    " blastn -query split.fa -out split.blast -db ../project24/hg38 -outfmt 6   -num_threads 30 -evalue 0.05  -task blastn-short\n",
    "```"
   ]
  },
  {
   "cell_type": "markdown",
   "id": "e3cb00f9-4739-49fb-9890-2099e0e190eb",
   "metadata": {},
   "source": [
    "variant"
   ]
  },
  {
   "cell_type": "code",
   "execution_count": null,
   "id": "c63b6653-ecb7-4c1c-947c-c32970e25d69",
   "metadata": {},
   "outputs": [],
   "source": [
    "chrm_gnomad = pd.read_csv(\"gnomad_mitochondrial_variants_M-1-16569_filtered.csv\", comment=\"#\")"
   ]
  },
  {
   "cell_type": "code",
   "execution_count": null,
   "id": "fc26a1fa-9289-4513-aa76-d84b60f6b1e2",
   "metadata": {},
   "outputs": [],
   "source": [
    "def work(x):\n",
    "    return pd.Series(x.split(\"-\"))"
   ]
  },
  {
   "cell_type": "code",
   "execution_count": null,
   "id": "684be6e2-96c6-4f33-a249-39a091d9f765",
   "metadata": {},
   "outputs": [],
   "source": [
    "id = chrm_gnomad[\"Variant ID\"].apply(work)\n",
    "\n",
    "chrm_gnomad = pd.concat([id,chrm_gnomad], axis=1)"
   ]
  },
  {
   "cell_type": "code",
   "execution_count": null,
   "id": "c7a687b1-0301-4a71-817e-530cd06e1bbb",
   "metadata": {},
   "outputs": [],
   "source": [
    "blast = pd.read_csv(\"split.blast\", header=None, sep='\\t')\n",
    "tmp = pd.DataFrame(blast[0].value_counts()).reset_index()\n",
    "tmp = tmp.sort_values(\"index\")\n",
    "tmp[\"idx\"] = tmp[\"index\"] * 40 \n",
    "idx = list(tmp[\"idx\"])\n",
    "blast_count = list(tmp[0])"
   ]
  },
  {
   "cell_type": "code",
   "execution_count": null,
   "id": "a37347a2-df42-4957-b291-802fa36e725c",
   "metadata": {},
   "outputs": [],
   "source": [
    "import numpy as np\n",
    "import matplotlib.pyplot as plt\n",
    "\n",
    "# 示例数据：SNP的位置及其对应的突变频率（频率越低表示越保守）\n",
    "snp_positions = [int(i) for i in chrm_gnomad[1]]\n",
    "snp_frequencies = [float(i) for i in chrm_gnomad[\"Homoplasmic Allele Frequency\"]]  # 这些频率可以替换成实际数据\n",
    "\n",
    "# SNP位置排序\n",
    "sorted_indices = np.argsort(snp_positions)\n",
    "snp_positions = np.array(snp_positions)[sorted_indices]\n",
    "snp_frequencies = np.array(snp_frequencies)[sorted_indices]\n",
    "\n",
    "# 设置窗口大小，这里选择1000为窗口的长度，你可以根据需要调整\n",
    "window_size = 40\n",
    "\n",
    "# 计算加权SNP密度\n",
    "def calculate_weighted_snp_density(snp_positions, snp_frequencies, window_size):\n",
    "    densities = []\n",
    "    max_position = max(snp_positions)\n",
    "    \n",
    "    # 对每一个窗口位置，计算窗口内SNP频率的加权密度\n",
    "    for start in range(0, max_position, window_size):\n",
    "        end = start + window_size\n",
    "        # 获取当前窗口内的SNP位置和对应的频率\n",
    "        snps_in_window = [i for i in range(len(snp_positions)) if start <= snp_positions[i] < end]\n",
    "        \n",
    "        # 如果窗口内有SNP，则计算该窗口的加权密度\n",
    "        if snps_in_window:\n",
    "            snp_count = len(snps_in_window)\n",
    "            # 计算窗口内所有SNP频率的和（频率较高的SNP贡献较大）\n",
    "            weighted_density = np.sum(snp_frequencies[snps_in_window])*snp_count\n",
    "        else:\n",
    "            weighted_density = 0  # 如果窗口内没有SNP，则密度为0\n",
    "        \n",
    "        densities.append(weighted_density)\n",
    "    \n",
    "    return densities, np.arange(0, max_position, window_size)\n",
    "\n",
    "\n",
    "# 计算每个窗口的加权SNP密度\n",
    "densities, window_positions = calculate_weighted_snp_density(snp_positions, snp_frequencies, window_size)\n",
    "\n",
    "# 绘制加权SNP密度图\n",
    "plt.figure(figsize=(80, 6)) \n",
    "plt.plot(window_positions, densities, label='frquency + count', color='b') \n",
    "plt.plot(idx, blast_count, label='blast + count', color='r') \n",
    "plt.axhline(y=1, color='k', linestyle='--', label='y=1') \n",
    "plt.xlabel('Genomic Position')\n",
    "plt.ylabel('Weighted SNP Density (Lower is more conserved)')\n",
    "plt.xticks(range(0, 17001, 100), rotation=45) \n",
    "\n",
    "plt.title('SNP Density Across Genomic Regions (Weighted by Frequency)')\n",
    "plt.legend()\n",
    "plt.savefig('mit.pdf', dpi=300)\n",
    "plt.show()"
   ]
  }
 ],
 "metadata": {
  "kernelspec": {
   "display_name": "Python [conda env:ml2]",
   "language": "python",
   "name": "conda-env-ml2-py"
  },
  "language_info": {
   "codemirror_mode": {
    "name": "ipython",
    "version": 3
   },
   "file_extension": ".py",
   "mimetype": "text/x-python",
   "name": "python",
   "nbconvert_exporter": "python",
   "pygments_lexer": "ipython3",
   "version": "3.11.10"
  }
 },
 "nbformat": 4,
 "nbformat_minor": 5
}
